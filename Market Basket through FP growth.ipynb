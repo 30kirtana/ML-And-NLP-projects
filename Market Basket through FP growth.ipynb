{
 "cells": [
  {
   "cell_type": "markdown",
   "id": "aa144b9b",
   "metadata": {},
   "source": [
    "# Market Basket Analysis through FP Growth"
   ]
  },
  {
   "cell_type": "code",
   "execution_count": 2,
   "id": "2756cf32",
   "metadata": {},
   "outputs": [
    {
     "name": "stderr",
     "output_type": "stream",
     "text": [
      "C:\\Users\\KIIT\\anaconda3\\lib\\site-packages\\ipykernel\\ipkernel.py:287: DeprecationWarning: `should_run_async` will not call `transform_cell` automatically in the future. Please pass the result to `transformed_cell` argument and any exception that happen during thetransform in `preprocessing_exc_tuple` in IPython 7.17 and above.\n",
      "  and should_run_async(code)\n"
     ]
    },
    {
     "name": "stdout",
     "output_type": "stream",
     "text": [
      "   support         itemsets\n",
      "0      0.8           (milk)\n",
      "1      0.8          (bread)\n",
      "2      0.8         (diaper)\n",
      "3      0.6           (beer)\n",
      "4      0.6    (milk, bread)\n",
      "5      0.6  (diaper, bread)\n",
      "6      0.6   (diaper, milk)\n",
      "7      0.6   (diaper, beer)\n"
     ]
    }
   ],
   "source": [
    "from mlxtend.frequent_patterns import fpgrowth\n",
    "from mlxtend.preprocessing import TransactionEncoder\n",
    "import pandas as pd\n",
    "dataset = [['bread', 'milk'], \n",
    "           ['bread', 'diaper', 'beer', 'egg'], \n",
    "           ['milk', 'diaper', 'beer', 'cola'], \n",
    "           ['bread', 'milk', 'diaper', 'beer'], \n",
    "           ['bread', 'milk', 'diaper', 'cola']]\n",
    "te = TransactionEncoder()\n",
    "te_ary = te.fit(dataset).transform(dataset)\n",
    "df = pd.DataFrame(te_ary, columns=te.columns_)\n",
    "frequent_itemsets = fpgrowth(df, min_support=0.5, use_colnames=True)\n",
    "print(frequent_itemsets)"
   ]
  },
  {
   "cell_type": "code",
   "execution_count": 3,
   "id": "bb8a47ae",
   "metadata": {},
   "outputs": [
    {
     "name": "stderr",
     "output_type": "stream",
     "text": [
      "C:\\Users\\KIIT\\anaconda3\\lib\\site-packages\\ipykernel\\ipkernel.py:287: DeprecationWarning: `should_run_async` will not call `transform_cell` automatically in the future. Please pass the result to `transformed_cell` argument and any exception that happen during thetransform in `preprocessing_exc_tuple` in IPython 7.17 and above.\n",
      "  and should_run_async(code)\n"
     ]
    },
    {
     "name": "stdout",
     "output_type": "stream",
     "text": [
      "     support                 itemsets\n",
      "0   0.157923             (whole milk)\n",
      "1   0.051728                 (pastry)\n",
      "2   0.085879                 (yogurt)\n",
      "3   0.060349                (sausage)\n",
      "4   0.097106                   (soda)\n",
      "5   0.046916            (canned beer)\n",
      "6   0.110005             (rolls/buns)\n",
      "7   0.043708     (whipped/sour cream)\n",
      "8   0.037760            (frankfurter)\n",
      "9   0.033683                   (curd)\n",
      "10  0.033950                   (beef)\n",
      "11  0.035220                 (butter)\n",
      "12  0.122101       (other vegetables)\n",
      "13  0.067767         (tropical fruit)\n",
      "14  0.069572        (root vegetables)\n",
      "15  0.049054              (pip fruit)\n",
      "16  0.047584          (shopping bags)\n",
      "17  0.032213              (margarine)\n",
      "18  0.060683          (bottled water)\n",
      "19  0.045312           (bottled beer)\n",
      "20  0.037091          (domestic eggs)\n",
      "21  0.038896             (newspapers)\n",
      "22  0.031611                 (coffee)\n",
      "23  0.053131           (citrus fruit)\n",
      "24  0.037626            (brown bread)\n",
      "25  0.034017  (fruit/vegetable juice)\n",
      "26  0.037091                   (pork)\n"
     ]
    }
   ],
   "source": [
    "import pandas as pd\n",
    "from mlxtend.frequent_patterns import fpgrowth\n",
    "from mlxtend.preprocessing import TransactionEncoder\n",
    "\n",
    "# read the data into a pandas dataframe\n",
    "data = pd.read_csv('Groceriesdata.csv')\n",
    "\n",
    "# convert the data into a list of transactions\n",
    "transaction_list = data.groupby(['Member_number', 'year', 'month', 'day', 'day_of_week'])['itemDescription'].apply(list).values.tolist()\n",
    "\n",
    "# initialize a transaction encoder\n",
    "te = TransactionEncoder()\n",
    "\n",
    "# fit the transaction encoder to the transaction data and transform the data\n",
    "te_ary = te.fit(transaction_list).transform(transaction_list)\n",
    "\n",
    "# convert the encoded transaction data into a pandas dataframe\n",
    "df = pd.DataFrame(te_ary, columns=te.columns_)\n",
    "\n",
    "# apply the FP-Growth algorithm to the transaction data with a minimum support threshold of 0.03\n",
    "frequent_itemsets = fpgrowth(df, min_support=0.03, use_colnames=True)\n",
    "\n",
    "# print the frequent itemsets\n",
    "print(frequent_itemsets)\n"
   ]
  },
  {
   "cell_type": "code",
   "execution_count": 4,
   "id": "62c3be02",
   "metadata": {},
   "outputs": [
    {
     "name": "stderr",
     "output_type": "stream",
     "text": [
      "C:\\Users\\KIIT\\anaconda3\\lib\\site-packages\\ipykernel\\ipkernel.py:287: DeprecationWarning: `should_run_async` will not call `transform_cell` automatically in the future. Please pass the result to `transformed_cell` argument and any exception that happen during thetransform in `preprocessing_exc_tuple` in IPython 7.17 and above.\n",
      "  and should_run_async(code)\n"
     ]
    },
    {
     "ename": "ImportError",
     "evalue": "cannot import name 'eclat' from 'mlxtend.frequent_patterns' (C:\\Users\\KIIT\\anaconda3\\lib\\site-packages\\mlxtend\\frequent_patterns\\__init__.py)",
     "output_type": "error",
     "traceback": [
      "\u001b[1;31m---------------------------------------------------------------------------\u001b[0m",
      "\u001b[1;31mImportError\u001b[0m                               Traceback (most recent call last)",
      "\u001b[1;32m<ipython-input-4-6f0fc7eab8c7>\u001b[0m in \u001b[0;36m<module>\u001b[1;34m\u001b[0m\n\u001b[0;32m      1\u001b[0m \u001b[1;32mimport\u001b[0m \u001b[0mpandas\u001b[0m \u001b[1;32mas\u001b[0m \u001b[0mpd\u001b[0m\u001b[1;33m\u001b[0m\u001b[1;33m\u001b[0m\u001b[0m\n\u001b[1;32m----> 2\u001b[1;33m \u001b[1;32mfrom\u001b[0m \u001b[0mmlxtend\u001b[0m\u001b[1;33m.\u001b[0m\u001b[0mfrequent_patterns\u001b[0m \u001b[1;32mimport\u001b[0m \u001b[0meclat\u001b[0m\u001b[1;33m\u001b[0m\u001b[1;33m\u001b[0m\u001b[0m\n\u001b[0m\u001b[0;32m      3\u001b[0m \u001b[1;32mfrom\u001b[0m \u001b[0mmlxtend\u001b[0m\u001b[1;33m.\u001b[0m\u001b[0mpreprocessing\u001b[0m \u001b[1;32mimport\u001b[0m \u001b[0mTransactionEncoder\u001b[0m\u001b[1;33m\u001b[0m\u001b[1;33m\u001b[0m\u001b[0m\n\u001b[0;32m      4\u001b[0m \u001b[1;33m\u001b[0m\u001b[0m\n\u001b[0;32m      5\u001b[0m \u001b[1;31m# read the data into a pandas dataframe\u001b[0m\u001b[1;33m\u001b[0m\u001b[1;33m\u001b[0m\u001b[1;33m\u001b[0m\u001b[0m\n",
      "\u001b[1;31mImportError\u001b[0m: cannot import name 'eclat' from 'mlxtend.frequent_patterns' (C:\\Users\\KIIT\\anaconda3\\lib\\site-packages\\mlxtend\\frequent_patterns\\__init__.py)"
     ]
    }
   ],
   "source": [
    "import pandas as pd\n",
    "from mlxtend.frequent_patterns import eclat\n",
    "from mlxtend.preprocessing import TransactionEncoder\n",
    "\n",
    "# read the data into a pandas dataframe\n",
    "data = pd.read_csv('Groceriesdata.csv')\n",
    "\n",
    "# convert the data into a list of transactions\n",
    "transaction_list = data.groupby(['Transaction'])['Item'].apply(list).values.tolist()\n",
    "\n",
    "# initialize a transaction encoder\n",
    "te = TransactionEncoder()\n",
    "\n",
    "# fit the transaction encoder to the transaction data and transform the data\n",
    "te_ary = te.fit(transaction_list).transform(transaction_list)\n",
    "\n",
    "# convert the encoded transaction data into a pandas dataframe\n",
    "df = pd.DataFrame(te_ary, columns=te.columns_)\n",
    "\n",
    "# apply the Eclat algorithm to the transaction data with a minimum support threshold of 0.03\n",
    "frequent_itemsets = eclat(df, min_support=0.03, use_colnames=True)\n",
    "\n",
    "# print the frequent itemsets\n",
    "print(frequent_itemsets)\n"
   ]
  },
  {
   "cell_type": "code",
   "execution_count": null,
   "id": "1add3c58",
   "metadata": {},
   "outputs": [],
   "source": [
    "\n",
    "\n"
   ]
  },
  {
   "cell_type": "code",
   "execution_count": null,
   "id": "6f03a91d",
   "metadata": {},
   "outputs": [],
   "source": []
  }
 ],
 "metadata": {
  "kernelspec": {
   "display_name": "Python 3",
   "language": "python",
   "name": "python3"
  },
  "language_info": {
   "codemirror_mode": {
    "name": "ipython",
    "version": 3
   },
   "file_extension": ".py",
   "mimetype": "text/x-python",
   "name": "python",
   "nbconvert_exporter": "python",
   "pygments_lexer": "ipython3",
   "version": "3.8.8"
  }
 },
 "nbformat": 4,
 "nbformat_minor": 5
}
